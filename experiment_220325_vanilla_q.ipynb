{
 "cells": [
  {
   "cell_type": "code",
   "execution_count": 5,
   "id": "8800b830-460c-4f21-8ece-841bc0600681",
   "metadata": {},
   "outputs": [],
   "source": [
    "import gym\n",
    "import getch\n",
    "from stable_baselines3.common.env_checker import check_env\n",
    "from bombergym.scenarios import classic, classic_with_opponents, coin_heaven\n",
    "from bombergym.environments import register\n",
    "import torch\n",
    "import time\n",
    "import numpy as np\n",
    "\n",
    "np.set_printoptions(linewidth=120)\n",
    "\n",
    "register()\n",
    "settings, agents = classic_with_opponents()\n",
    "\n",
    "env = gym.make('BomberGym-v0', args=settings, agents=agents)"
   ]
  },
  {
   "cell_type": "code",
   "execution_count": 18,
   "id": "cbba3280-361f-4bd6-b931-81a02efe21e2",
   "metadata": {},
   "outputs": [
    {
     "data": {
      "text/plain": [
       "'a'"
      ]
     },
     "execution_count": 18,
     "metadata": {},
     "output_type": "execute_result"
    }
   ],
   "source": [
    "import gmpy2\n",
    "gmpy2.digits(10, 11)"
   ]
  },
  {
   "cell_type": "code",
   "execution_count": 23,
   "id": "aecf2b6a-1752-4d18-a345-396275ddafe2",
   "metadata": {},
   "outputs": [
    {
     "name": "stdout",
     "output_type": "stream",
     "text": [
      "175 ns ± 0.25 ns per loop (mean ± std. dev. of 7 runs, 10,000,000 loops each)\n"
     ]
    }
   ],
   "source": [
    "%%timeit\n",
    "gmpy2.digits(10, 11)"
   ]
  },
  {
   "cell_type": "code",
   "execution_count": 27,
   "id": "53f50588-ca19-4f98-820f-0abede4a6145",
   "metadata": {},
   "outputs": [
    {
     "data": {
      "text/plain": [
       "1771560"
      ]
     },
     "execution_count": 27,
     "metadata": {},
     "output_type": "execute_result"
    }
   ],
   "source": [
    "int('AAAAAA', base=11)"
   ]
  },
  {
   "cell_type": "code",
   "execution_count": 7,
   "id": "71cc3721-cfd4-44a7-800a-d54c138b5aa1",
   "metadata": {},
   "outputs": [],
   "source": [
    "EXPLOSION = -4\n",
    "BOMB_T0 = -3\n",
    "BOMB_T1 = -2\n",
    "BOMB_T2 = -1\n",
    "BOMB_T3 = 0\n",
    "WALL = 1\n",
    "ENEMY = 2\n",
    "SELF = 3\n",
    "FREE = 4\n",
    "CRATE = 5\n",
    "COIN = 6"
   ]
  },
  {
   "cell_type": "code",
   "execution_count": 6,
   "id": "bfd3a647-226e-425a-80f9-8cacfb66ed7e",
   "metadata": {},
   "outputs": [
    {
     "data": {
      "text/plain": [
       "array([[-2, -2, -2, -2, -2, -2, -2, -2, -2, -2, -2, -2, -2, -2, -2, -2, -2],\n",
       "       [-2,  2,  0,  0,  0,  0,  0,  1,  1,  1,  1,  1,  1,  1,  0, -1, -2],\n",
       "       [-2,  0, -2,  0, -2,  1, -2,  0, -2,  0, -2,  1, -2,  1, -2,  0, -2],\n",
       "       [-2,  1,  1,  0,  1,  1,  0,  1,  0,  0,  0,  1,  1,  0,  1,  1, -2],\n",
       "       [-2,  0, -2,  1, -2,  1, -2,  1, -2,  1, -2,  0, -2,  0, -2,  1, -2],\n",
       "       [-2,  1,  1,  1,  1,  0,  1,  1,  0,  1,  1,  0,  1,  1,  0,  1, -2],\n",
       "       [-2,  1, -2,  1, -2,  1, -2,  1, -2,  1, -2,  1, -2,  1, -2,  1, -2],\n",
       "       [-2,  1,  1,  1,  0,  0,  1,  0,  1,  0,  1,  1,  1,  0,  0,  1, -2],\n",
       "       [-2,  1, -2,  1, -2,  0, -2,  1, -2,  0, -2,  1, -2,  1, -2,  1, -2],\n",
       "       [-2,  1,  1,  1,  0,  1,  0,  0,  1,  0,  1,  1,  0,  0,  0,  1, -2],\n",
       "       [-2,  1, -2,  1, -2,  1, -2,  1, -2,  0, -2,  1, -2,  1, -2,  0, -2],\n",
       "       [-2,  1,  1,  1,  1,  1,  0,  1,  1,  1,  1,  1,  1,  0,  0,  1, -2],\n",
       "       [-2,  1, -2,  1, -2,  0, -2,  1, -2,  1, -2,  1, -2,  1, -2,  1, -2],\n",
       "       [-2,  1,  1,  1,  0,  1,  0,  1,  1,  0,  1,  1,  1,  1,  0,  1, -2],\n",
       "       [-2,  0, -2,  1, -2,  1, -2,  1, -2,  0, -2,  0, -2,  1, -2,  0, -2],\n",
       "       [-2, -1,  0,  1,  1,  1,  1,  1,  1,  1,  0,  1,  1,  1,  0, -1, -2],\n",
       "       [-2, -2, -2, -2, -2, -2, -2, -2, -2, -2, -2, -2, -2, -2, -2, -2, -2]])"
      ]
     },
     "execution_count": 6,
     "metadata": {},
     "output_type": "execute_result"
    }
   ],
   "source": [
    "env.reset()"
   ]
  },
  {
   "cell_type": "code",
   "execution_count": null,
   "id": "bcaf4ad0-81f5-4e27-8526-5d69cb76d74f",
   "metadata": {},
   "outputs": [],
   "source": [
    "\n",
    "\n",
    "def detect_initial_configuration(obs):\n",
    "    agent_frame = obs[4, :, :]\n",
    "    x, y = (agent_frame == 1).nonzero()\n",
    "    x, y = x[0], y[0]\n",
    "    config = None\n",
    "    if x < 7 and y > 7:\n",
    "        config = 'bottom-left'\n",
    "    if x > 7 and y < 7:\n",
    "        config = 'top-right'\n",
    "    if x < 7 and y < 7:\n",
    "        config = 'top-left'\n",
    "    if x > 7 and y > 7:\n",
    "        config = 'bottom-right'\n",
    "    return config\n",
    "\n",
    "def get_transposer(config):\n",
    "    if config == 'top-left':\n",
    "        return lambda model, input: model(torch.from_numpy(input).unsqueeze(0)).argmax().item()\n",
    "    elif config == 'top-right':\n",
    "        return transposer_lr\n",
    "    elif config == 'bottom-left':\n",
    "        return transposer_td\n",
    "    else:\n",
    "        return transposer_lrtd\n",
    "\n",
    "def transposer_lr(model, inp):\n",
    "    input_aug = inp[:, ::-1, :].copy()\n",
    "    action = model(torch.from_numpy(input_aug).unsqueeze(0)).argmax().item()\n",
    "    new_action_lr = None\n",
    "    if action == 1: # Right\n",
    "        new_action_lr = 3 # Left\n",
    "    elif action == 3: # Left\n",
    "        new_action_lr = 1 # Right\n",
    "    else:\n",
    "        new_action_lr = action\n",
    "    return new_action_lr\n",
    "\n",
    "def transposer_td(model, inp):\n",
    "    input_aug = inp[:, :, ::-1].copy()\n",
    "    action = model(torch.from_numpy(input_aug).unsqueeze(0)).argmax().item()\n",
    "    new_action_ud = None\n",
    "    if action == 0: # Up\n",
    "        new_action_ud = 2 # down\n",
    "    elif action == 2: # Down\n",
    "        new_action_ud = 0 # Up\n",
    "    else:\n",
    "        new_action_ud = action\n",
    "    return new_action_ud\n",
    "\n",
    "def transposer_lrtd(model, inp):\n",
    "    input_aug = inp[:, ::-1, ::-1].copy()\n",
    "    action = model(torch.from_numpy(input_aug).unsqueeze(0)).argmax().item()\n",
    "    new_action_udlr = None\n",
    "    if action == 0: # Up\n",
    "        new_action_udlr = 2 # down\n",
    "    elif action == 2: # Down\n",
    "        new_action_udlr = 0 # Up\n",
    "    elif action == 1: # Right\n",
    "        new_action_udlr = 3 # Left\n",
    "    elif action == 3: # Left\n",
    "        new_action_udlr = 1 # Right\n",
    "    else:\n",
    "        new_action_udlr = action\n",
    "    return new_action_udlr\n",
    "\n",
    "obs = env.reset()\n",
    "previous_obs = None\n",
    "initial_config = detect_initial_configuration(obs)\n",
    "transposer = get_transposer(initial_config)\n",
    "print(f'Config: {initial_config}')\n",
    "time.sleep(1)\n",
    "env.render()\n",
    "while True:\n",
    "    if previous_obs is not None:\n",
    "        concat_obs = np.dstack((previous_obs, obs)).astype(np.float32)\n",
    "        print(model(torch.from_numpy(concat_obs).unsqueeze(0)))\n",
    "        action = model(torch.from_numpy(concat_obs).unsqueeze(0)).argmax().item()\n",
    "        #action = transposer(model, concat_obs)\n",
    "    else:\n",
    "        action = 2\n",
    "    previous_obs = obs\n",
    "    obs, rew, done, other = env.step(action)\n",
    "    if not done:\n",
    "        feature_info = other[\"features\"] if \"features\" in other else None\n",
    "        env.render(events=other[\"events\"], rewards=rew, other=feature_info)\n",
    "        time.sleep(.5)\n",
    "    else:\n",
    "        print(other[\"events\"], f\"Reward: {rew}\")\n",
    "        break\n",
    "    \n",
    " \n"
   ]
  }
 ],
 "metadata": {
  "kernelspec": {
   "display_name": "Python 3 (ipykernel)",
   "language": "python",
   "name": "python3"
  },
  "language_info": {
   "codemirror_mode": {
    "name": "ipython",
    "version": 3
   },
   "file_extension": ".py",
   "mimetype": "text/x-python",
   "name": "python",
   "nbconvert_exporter": "python",
   "pygments_lexer": "ipython3",
   "version": "3.9.10"
  }
 },
 "nbformat": 4,
 "nbformat_minor": 5
}
