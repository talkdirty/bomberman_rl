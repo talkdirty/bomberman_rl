{
 "cells": [
  {
   "cell_type": "code",
   "execution_count": 22,
   "id": "434cab81-adda-4d22-a76b-583441ebb219",
   "metadata": {},
   "outputs": [],
   "source": [
    "# Arch with Deepmind 2015 paper architecure instead"
   ]
  },
  {
   "cell_type": "code",
   "execution_count": 1,
   "id": "bc9241d5-6245-48e7-ba24-13f9c3feebcd",
   "metadata": {},
   "outputs": [],
   "source": [
    "import torch\n",
    "import torch.nn.functional as F"
   ]
  },
  {
   "cell_type": "code",
   "execution_count": 2,
   "id": "1f3bce7e-f7ce-4356-a5b2-6f1780cabf56",
   "metadata": {},
   "outputs": [],
   "source": [
    "from experiment_220324_deepmind_arch import DeepmindAtariCNNDeep"
   ]
  },
  {
   "cell_type": "code",
   "execution_count": 3,
   "id": "8cca91e4-f33d-4449-954f-fe81a277a69b",
   "metadata": {},
   "outputs": [],
   "source": [
    "x = torch.rand(3, 5, 17, 16)"
   ]
  },
  {
   "cell_type": "code",
   "execution_count": 4,
   "id": "72afe05a-96d2-48e0-a4b2-5f4c4a8780c3",
   "metadata": {},
   "outputs": [],
   "source": [
    "model = DeepmindAtariCNNDeep()"
   ]
  },
  {
   "cell_type": "code",
   "execution_count": 5,
   "id": "c9859df6-781f-4241-9ccd-f6c4e7e3c3b2",
   "metadata": {},
   "outputs": [
    {
     "data": {
      "text/plain": [
       "tensor([[ 0.0436,  0.0063, -0.0596,  0.0842,  0.0013,  0.0405],\n",
       "        [ 0.0412, -0.0024, -0.0635,  0.0760, -0.0001,  0.0392],\n",
       "        [ 0.0378,  0.0070, -0.0638,  0.0774, -0.0118,  0.0376]],\n",
       "       grad_fn=<AddmmBackward0>)"
      ]
     },
     "execution_count": 5,
     "metadata": {},
     "output_type": "execute_result"
    }
   ],
   "source": [
    "model(x)"
   ]
  },
  {
   "cell_type": "code",
   "execution_count": null,
   "id": "fc18f5f8-eba5-4449-b668-a8e7a7c83f85",
   "metadata": {},
   "outputs": [],
   "source": []
  }
 ],
 "metadata": {
  "kernelspec": {
   "display_name": "Python 3 (ipykernel)",
   "language": "python",
   "name": "python3"
  },
  "language_info": {
   "codemirror_mode": {
    "name": "ipython",
    "version": 3
   },
   "file_extension": ".py",
   "mimetype": "text/x-python",
   "name": "python",
   "nbconvert_exporter": "python",
   "pygments_lexer": "ipython3",
   "version": "3.9.10"
  }
 },
 "nbformat": 4,
 "nbformat_minor": 5
}
